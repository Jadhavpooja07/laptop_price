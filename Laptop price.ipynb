{
 "cells": [
  {
   "cell_type": "code",
   "execution_count": 22,
   "id": "12f8bb67",
   "metadata": {},
   "outputs": [],
   "source": [
    "import pandas as pd\n",
    "import numpy as np \n",
    "from sklearn.model_selection import train_test_split\n",
    "from sklearn.linear_model import LinearRegression\n",
    "from sklearn.metrics import mean_absolute_error, mean_squared_error, r2_score\n",
    "\n",
    "import pickle\n",
    "import json\n",
    "import warnings\n",
    "warnings.filterwarnings(\"ignore\")"
   ]
  },
  {
   "cell_type": "code",
   "execution_count": 23,
   "id": "268229e0",
   "metadata": {},
   "outputs": [
    {
     "data": {
      "text/html": [
       "<div>\n",
       "<style scoped>\n",
       "    .dataframe tbody tr th:only-of-type {\n",
       "        vertical-align: middle;\n",
       "    }\n",
       "\n",
       "    .dataframe tbody tr th {\n",
       "        vertical-align: top;\n",
       "    }\n",
       "\n",
       "    .dataframe thead th {\n",
       "        text-align: right;\n",
       "    }\n",
       "</style>\n",
       "<table border=\"1\" class=\"dataframe\">\n",
       "  <thead>\n",
       "    <tr style=\"text-align: right;\">\n",
       "      <th></th>\n",
       "      <th>brand</th>\n",
       "      <th>processor_brand</th>\n",
       "      <th>ram_gb</th>\n",
       "      <th>ssd</th>\n",
       "      <th>hdd</th>\n",
       "      <th>os_bit</th>\n",
       "      <th>Touchscreen</th>\n",
       "      <th>Price</th>\n",
       "    </tr>\n",
       "  </thead>\n",
       "  <tbody>\n",
       "    <tr>\n",
       "      <th>0</th>\n",
       "      <td>ASUS</td>\n",
       "      <td>Intel</td>\n",
       "      <td>4 GB</td>\n",
       "      <td>0 GB</td>\n",
       "      <td>1024 GB</td>\n",
       "      <td>64-bit</td>\n",
       "      <td>No</td>\n",
       "      <td>34649</td>\n",
       "    </tr>\n",
       "    <tr>\n",
       "      <th>1</th>\n",
       "      <td>Lenovo</td>\n",
       "      <td>Intel</td>\n",
       "      <td>4 GB</td>\n",
       "      <td>0 GB</td>\n",
       "      <td>1024 GB</td>\n",
       "      <td>64-bit</td>\n",
       "      <td>No</td>\n",
       "      <td>38999</td>\n",
       "    </tr>\n",
       "    <tr>\n",
       "      <th>2</th>\n",
       "      <td>Lenovo</td>\n",
       "      <td>Intel</td>\n",
       "      <td>4 GB</td>\n",
       "      <td>0 GB</td>\n",
       "      <td>1024 GB</td>\n",
       "      <td>64-bit</td>\n",
       "      <td>No</td>\n",
       "      <td>39999</td>\n",
       "    </tr>\n",
       "    <tr>\n",
       "      <th>3</th>\n",
       "      <td>ASUS</td>\n",
       "      <td>Intel</td>\n",
       "      <td>8 GB</td>\n",
       "      <td>512 GB</td>\n",
       "      <td>0 GB</td>\n",
       "      <td>32-bit</td>\n",
       "      <td>No</td>\n",
       "      <td>69990</td>\n",
       "    </tr>\n",
       "    <tr>\n",
       "      <th>4</th>\n",
       "      <td>ASUS</td>\n",
       "      <td>Intel</td>\n",
       "      <td>4 GB</td>\n",
       "      <td>0 GB</td>\n",
       "      <td>512 GB</td>\n",
       "      <td>64-bit</td>\n",
       "      <td>No</td>\n",
       "      <td>26990</td>\n",
       "    </tr>\n",
       "    <tr>\n",
       "      <th>...</th>\n",
       "      <td>...</td>\n",
       "      <td>...</td>\n",
       "      <td>...</td>\n",
       "      <td>...</td>\n",
       "      <td>...</td>\n",
       "      <td>...</td>\n",
       "      <td>...</td>\n",
       "      <td>...</td>\n",
       "    </tr>\n",
       "    <tr>\n",
       "      <th>818</th>\n",
       "      <td>ASUS</td>\n",
       "      <td>AMD</td>\n",
       "      <td>4 GB</td>\n",
       "      <td>1024 GB</td>\n",
       "      <td>0 GB</td>\n",
       "      <td>64-bit</td>\n",
       "      <td>No</td>\n",
       "      <td>135990</td>\n",
       "    </tr>\n",
       "    <tr>\n",
       "      <th>819</th>\n",
       "      <td>ASUS</td>\n",
       "      <td>AMD</td>\n",
       "      <td>4 GB</td>\n",
       "      <td>1024 GB</td>\n",
       "      <td>0 GB</td>\n",
       "      <td>64-bit</td>\n",
       "      <td>No</td>\n",
       "      <td>144990</td>\n",
       "    </tr>\n",
       "    <tr>\n",
       "      <th>820</th>\n",
       "      <td>ASUS</td>\n",
       "      <td>AMD</td>\n",
       "      <td>4 GB</td>\n",
       "      <td>1024 GB</td>\n",
       "      <td>0 GB</td>\n",
       "      <td>64-bit</td>\n",
       "      <td>No</td>\n",
       "      <td>149990</td>\n",
       "    </tr>\n",
       "    <tr>\n",
       "      <th>821</th>\n",
       "      <td>ASUS</td>\n",
       "      <td>AMD</td>\n",
       "      <td>4 GB</td>\n",
       "      <td>1024 GB</td>\n",
       "      <td>0 GB</td>\n",
       "      <td>64-bit</td>\n",
       "      <td>No</td>\n",
       "      <td>142990</td>\n",
       "    </tr>\n",
       "    <tr>\n",
       "      <th>822</th>\n",
       "      <td>Lenovo</td>\n",
       "      <td>AMD</td>\n",
       "      <td>8 GB</td>\n",
       "      <td>512 GB</td>\n",
       "      <td>0 GB</td>\n",
       "      <td>64-bit</td>\n",
       "      <td>No</td>\n",
       "      <td>57490</td>\n",
       "    </tr>\n",
       "  </tbody>\n",
       "</table>\n",
       "<p>823 rows × 8 columns</p>\n",
       "</div>"
      ],
      "text/plain": [
       "      brand processor_brand ram_gb      ssd      hdd  os_bit Touchscreen   \n",
       "0      ASUS           Intel   4 GB     0 GB  1024 GB  64-bit          No  \\\n",
       "1    Lenovo           Intel   4 GB     0 GB  1024 GB  64-bit          No   \n",
       "2    Lenovo           Intel   4 GB     0 GB  1024 GB  64-bit          No   \n",
       "3      ASUS           Intel   8 GB   512 GB     0 GB  32-bit          No   \n",
       "4      ASUS           Intel   4 GB     0 GB   512 GB  64-bit          No   \n",
       "..      ...             ...    ...      ...      ...     ...         ...   \n",
       "818    ASUS             AMD   4 GB  1024 GB     0 GB  64-bit          No   \n",
       "819    ASUS             AMD   4 GB  1024 GB     0 GB  64-bit          No   \n",
       "820    ASUS             AMD   4 GB  1024 GB     0 GB  64-bit          No   \n",
       "821    ASUS             AMD   4 GB  1024 GB     0 GB  64-bit          No   \n",
       "822  Lenovo             AMD   8 GB   512 GB     0 GB  64-bit          No   \n",
       "\n",
       "      Price  \n",
       "0     34649  \n",
       "1     38999  \n",
       "2     39999  \n",
       "3     69990  \n",
       "4     26990  \n",
       "..      ...  \n",
       "818  135990  \n",
       "819  144990  \n",
       "820  149990  \n",
       "821  142990  \n",
       "822   57490  \n",
       "\n",
       "[823 rows x 8 columns]"
      ]
     },
     "execution_count": 23,
     "metadata": {},
     "output_type": "execute_result"
    }
   ],
   "source": [
    "df = pd.read_csv(\"static\\csv_files\\LaptopPrice.csv\")\n",
    "df"
   ]
  },
  {
   "cell_type": "code",
   "execution_count": 24,
   "id": "ad2fd702",
   "metadata": {},
   "outputs": [
    {
     "name": "stdout",
     "output_type": "stream",
     "text": [
      "<class 'pandas.core.frame.DataFrame'>\n",
      "RangeIndex: 823 entries, 0 to 822\n",
      "Data columns (total 8 columns):\n",
      " #   Column           Non-Null Count  Dtype \n",
      "---  ------           --------------  ----- \n",
      " 0   brand            823 non-null    object\n",
      " 1   processor_brand  823 non-null    object\n",
      " 2   ram_gb           823 non-null    object\n",
      " 3   ssd              823 non-null    object\n",
      " 4   hdd              823 non-null    object\n",
      " 5   os_bit           823 non-null    object\n",
      " 6   Touchscreen      823 non-null    object\n",
      " 7   Price            823 non-null    int64 \n",
      "dtypes: int64(1), object(7)\n",
      "memory usage: 51.6+ KB\n"
     ]
    }
   ],
   "source": [
    "df.info()"
   ]
  },
  {
   "cell_type": "code",
   "execution_count": 25,
   "id": "8e95d8e1",
   "metadata": {},
   "outputs": [
    {
     "data": {
      "text/plain": [
       "0        ASUS\n",
       "1      Lenovo\n",
       "2      Lenovo\n",
       "3        ASUS\n",
       "4        ASUS\n",
       "        ...  \n",
       "818      ASUS\n",
       "819      ASUS\n",
       "820      ASUS\n",
       "821      ASUS\n",
       "822    Lenovo\n",
       "Name: brand, Length: 823, dtype: object"
      ]
     },
     "execution_count": 25,
     "metadata": {},
     "output_type": "execute_result"
    }
   ],
   "source": [
    "df[\"brand\"]"
   ]
  },
  {
   "cell_type": "code",
   "execution_count": 26,
   "id": "64a750ab",
   "metadata": {},
   "outputs": [
    {
     "data": {
      "text/plain": [
       "brand\n",
       "ASUS      249\n",
       "DELL      151\n",
       "Lenovo    144\n",
       "HP        136\n",
       "acer       51\n",
       "MSI        50\n",
       "APPLE      28\n",
       "Avita      14\n",
       "Name: count, dtype: int64"
      ]
     },
     "execution_count": 26,
     "metadata": {},
     "output_type": "execute_result"
    }
   ],
   "source": [
    "df[\"brand\"].value_counts()"
   ]
  },
  {
   "cell_type": "code",
   "execution_count": 27,
   "id": "a451541e",
   "metadata": {},
   "outputs": [
    {
     "data": {
      "text/html": [
       "<div>\n",
       "<style scoped>\n",
       "    .dataframe tbody tr th:only-of-type {\n",
       "        vertical-align: middle;\n",
       "    }\n",
       "\n",
       "    .dataframe tbody tr th {\n",
       "        vertical-align: top;\n",
       "    }\n",
       "\n",
       "    .dataframe thead th {\n",
       "        text-align: right;\n",
       "    }\n",
       "</style>\n",
       "<table border=\"1\" class=\"dataframe\">\n",
       "  <thead>\n",
       "    <tr style=\"text-align: right;\">\n",
       "      <th></th>\n",
       "      <th>processor_brand</th>\n",
       "      <th>ram_gb</th>\n",
       "      <th>ssd</th>\n",
       "      <th>hdd</th>\n",
       "      <th>os_bit</th>\n",
       "      <th>Touchscreen</th>\n",
       "      <th>Price</th>\n",
       "      <th>brand_APPLE</th>\n",
       "      <th>brand_ASUS</th>\n",
       "      <th>brand_Avita</th>\n",
       "      <th>brand_DELL</th>\n",
       "      <th>brand_HP</th>\n",
       "      <th>brand_Lenovo</th>\n",
       "      <th>brand_MSI</th>\n",
       "      <th>brand_acer</th>\n",
       "    </tr>\n",
       "  </thead>\n",
       "  <tbody>\n",
       "    <tr>\n",
       "      <th>0</th>\n",
       "      <td>Intel</td>\n",
       "      <td>4 GB</td>\n",
       "      <td>0 GB</td>\n",
       "      <td>1024 GB</td>\n",
       "      <td>64-bit</td>\n",
       "      <td>No</td>\n",
       "      <td>34649</td>\n",
       "      <td>0</td>\n",
       "      <td>1</td>\n",
       "      <td>0</td>\n",
       "      <td>0</td>\n",
       "      <td>0</td>\n",
       "      <td>0</td>\n",
       "      <td>0</td>\n",
       "      <td>0</td>\n",
       "    </tr>\n",
       "    <tr>\n",
       "      <th>1</th>\n",
       "      <td>Intel</td>\n",
       "      <td>4 GB</td>\n",
       "      <td>0 GB</td>\n",
       "      <td>1024 GB</td>\n",
       "      <td>64-bit</td>\n",
       "      <td>No</td>\n",
       "      <td>38999</td>\n",
       "      <td>0</td>\n",
       "      <td>0</td>\n",
       "      <td>0</td>\n",
       "      <td>0</td>\n",
       "      <td>0</td>\n",
       "      <td>1</td>\n",
       "      <td>0</td>\n",
       "      <td>0</td>\n",
       "    </tr>\n",
       "    <tr>\n",
       "      <th>2</th>\n",
       "      <td>Intel</td>\n",
       "      <td>4 GB</td>\n",
       "      <td>0 GB</td>\n",
       "      <td>1024 GB</td>\n",
       "      <td>64-bit</td>\n",
       "      <td>No</td>\n",
       "      <td>39999</td>\n",
       "      <td>0</td>\n",
       "      <td>0</td>\n",
       "      <td>0</td>\n",
       "      <td>0</td>\n",
       "      <td>0</td>\n",
       "      <td>1</td>\n",
       "      <td>0</td>\n",
       "      <td>0</td>\n",
       "    </tr>\n",
       "    <tr>\n",
       "      <th>3</th>\n",
       "      <td>Intel</td>\n",
       "      <td>8 GB</td>\n",
       "      <td>512 GB</td>\n",
       "      <td>0 GB</td>\n",
       "      <td>32-bit</td>\n",
       "      <td>No</td>\n",
       "      <td>69990</td>\n",
       "      <td>0</td>\n",
       "      <td>1</td>\n",
       "      <td>0</td>\n",
       "      <td>0</td>\n",
       "      <td>0</td>\n",
       "      <td>0</td>\n",
       "      <td>0</td>\n",
       "      <td>0</td>\n",
       "    </tr>\n",
       "    <tr>\n",
       "      <th>4</th>\n",
       "      <td>Intel</td>\n",
       "      <td>4 GB</td>\n",
       "      <td>0 GB</td>\n",
       "      <td>512 GB</td>\n",
       "      <td>64-bit</td>\n",
       "      <td>No</td>\n",
       "      <td>26990</td>\n",
       "      <td>0</td>\n",
       "      <td>1</td>\n",
       "      <td>0</td>\n",
       "      <td>0</td>\n",
       "      <td>0</td>\n",
       "      <td>0</td>\n",
       "      <td>0</td>\n",
       "      <td>0</td>\n",
       "    </tr>\n",
       "    <tr>\n",
       "      <th>...</th>\n",
       "      <td>...</td>\n",
       "      <td>...</td>\n",
       "      <td>...</td>\n",
       "      <td>...</td>\n",
       "      <td>...</td>\n",
       "      <td>...</td>\n",
       "      <td>...</td>\n",
       "      <td>...</td>\n",
       "      <td>...</td>\n",
       "      <td>...</td>\n",
       "      <td>...</td>\n",
       "      <td>...</td>\n",
       "      <td>...</td>\n",
       "      <td>...</td>\n",
       "      <td>...</td>\n",
       "    </tr>\n",
       "    <tr>\n",
       "      <th>818</th>\n",
       "      <td>AMD</td>\n",
       "      <td>4 GB</td>\n",
       "      <td>1024 GB</td>\n",
       "      <td>0 GB</td>\n",
       "      <td>64-bit</td>\n",
       "      <td>No</td>\n",
       "      <td>135990</td>\n",
       "      <td>0</td>\n",
       "      <td>1</td>\n",
       "      <td>0</td>\n",
       "      <td>0</td>\n",
       "      <td>0</td>\n",
       "      <td>0</td>\n",
       "      <td>0</td>\n",
       "      <td>0</td>\n",
       "    </tr>\n",
       "    <tr>\n",
       "      <th>819</th>\n",
       "      <td>AMD</td>\n",
       "      <td>4 GB</td>\n",
       "      <td>1024 GB</td>\n",
       "      <td>0 GB</td>\n",
       "      <td>64-bit</td>\n",
       "      <td>No</td>\n",
       "      <td>144990</td>\n",
       "      <td>0</td>\n",
       "      <td>1</td>\n",
       "      <td>0</td>\n",
       "      <td>0</td>\n",
       "      <td>0</td>\n",
       "      <td>0</td>\n",
       "      <td>0</td>\n",
       "      <td>0</td>\n",
       "    </tr>\n",
       "    <tr>\n",
       "      <th>820</th>\n",
       "      <td>AMD</td>\n",
       "      <td>4 GB</td>\n",
       "      <td>1024 GB</td>\n",
       "      <td>0 GB</td>\n",
       "      <td>64-bit</td>\n",
       "      <td>No</td>\n",
       "      <td>149990</td>\n",
       "      <td>0</td>\n",
       "      <td>1</td>\n",
       "      <td>0</td>\n",
       "      <td>0</td>\n",
       "      <td>0</td>\n",
       "      <td>0</td>\n",
       "      <td>0</td>\n",
       "      <td>0</td>\n",
       "    </tr>\n",
       "    <tr>\n",
       "      <th>821</th>\n",
       "      <td>AMD</td>\n",
       "      <td>4 GB</td>\n",
       "      <td>1024 GB</td>\n",
       "      <td>0 GB</td>\n",
       "      <td>64-bit</td>\n",
       "      <td>No</td>\n",
       "      <td>142990</td>\n",
       "      <td>0</td>\n",
       "      <td>1</td>\n",
       "      <td>0</td>\n",
       "      <td>0</td>\n",
       "      <td>0</td>\n",
       "      <td>0</td>\n",
       "      <td>0</td>\n",
       "      <td>0</td>\n",
       "    </tr>\n",
       "    <tr>\n",
       "      <th>822</th>\n",
       "      <td>AMD</td>\n",
       "      <td>8 GB</td>\n",
       "      <td>512 GB</td>\n",
       "      <td>0 GB</td>\n",
       "      <td>64-bit</td>\n",
       "      <td>No</td>\n",
       "      <td>57490</td>\n",
       "      <td>0</td>\n",
       "      <td>0</td>\n",
       "      <td>0</td>\n",
       "      <td>0</td>\n",
       "      <td>0</td>\n",
       "      <td>1</td>\n",
       "      <td>0</td>\n",
       "      <td>0</td>\n",
       "    </tr>\n",
       "  </tbody>\n",
       "</table>\n",
       "<p>823 rows × 15 columns</p>\n",
       "</div>"
      ],
      "text/plain": [
       "    processor_brand ram_gb      ssd      hdd  os_bit Touchscreen   Price   \n",
       "0             Intel   4 GB     0 GB  1024 GB  64-bit          No   34649  \\\n",
       "1             Intel   4 GB     0 GB  1024 GB  64-bit          No   38999   \n",
       "2             Intel   4 GB     0 GB  1024 GB  64-bit          No   39999   \n",
       "3             Intel   8 GB   512 GB     0 GB  32-bit          No   69990   \n",
       "4             Intel   4 GB     0 GB   512 GB  64-bit          No   26990   \n",
       "..              ...    ...      ...      ...     ...         ...     ...   \n",
       "818             AMD   4 GB  1024 GB     0 GB  64-bit          No  135990   \n",
       "819             AMD   4 GB  1024 GB     0 GB  64-bit          No  144990   \n",
       "820             AMD   4 GB  1024 GB     0 GB  64-bit          No  149990   \n",
       "821             AMD   4 GB  1024 GB     0 GB  64-bit          No  142990   \n",
       "822             AMD   8 GB   512 GB     0 GB  64-bit          No   57490   \n",
       "\n",
       "     brand_APPLE  brand_ASUS  brand_Avita  brand_DELL  brand_HP  brand_Lenovo   \n",
       "0              0           1            0           0         0             0  \\\n",
       "1              0           0            0           0         0             1   \n",
       "2              0           0            0           0         0             1   \n",
       "3              0           1            0           0         0             0   \n",
       "4              0           1            0           0         0             0   \n",
       "..           ...         ...          ...         ...       ...           ...   \n",
       "818            0           1            0           0         0             0   \n",
       "819            0           1            0           0         0             0   \n",
       "820            0           1            0           0         0             0   \n",
       "821            0           1            0           0         0             0   \n",
       "822            0           0            0           0         0             1   \n",
       "\n",
       "     brand_MSI  brand_acer  \n",
       "0            0           0  \n",
       "1            0           0  \n",
       "2            0           0  \n",
       "3            0           0  \n",
       "4            0           0  \n",
       "..         ...         ...  \n",
       "818          0           0  \n",
       "819          0           0  \n",
       "820          0           0  \n",
       "821          0           0  \n",
       "822          0           0  \n",
       "\n",
       "[823 rows x 15 columns]"
      ]
     },
     "execution_count": 27,
     "metadata": {},
     "output_type": "execute_result"
    }
   ],
   "source": [
    "df = pd.get_dummies(df,columns = [\"brand\"],dtype = int)\n",
    "df"
   ]
  },
  {
   "cell_type": "code",
   "execution_count": 28,
   "id": "27ccea3e",
   "metadata": {},
   "outputs": [
    {
     "data": {
      "text/plain": [
       "{'Intel': 610, 'AMD': 189, 'M1': 24}"
      ]
     },
     "execution_count": 28,
     "metadata": {},
     "output_type": "execute_result"
    }
   ],
   "source": [
    "df[\"processor_brand\"].value_counts().to_dict()"
   ]
  },
  {
   "cell_type": "code",
   "execution_count": 29,
   "id": "126336b9",
   "metadata": {},
   "outputs": [],
   "source": [
    "df[\"processor_brand\"].replace({'Intel': 1, 'AMD': 2, 'M1': 3},inplace = True)"
   ]
  },
  {
   "cell_type": "code",
   "execution_count": 30,
   "id": "da4bd6c6",
   "metadata": {},
   "outputs": [],
   "source": [
    "processor_brand_data ={'Intel': 1, 'AMD': 2, 'M1': 3}"
   ]
  },
  {
   "cell_type": "code",
   "execution_count": 31,
   "id": "739b1b75",
   "metadata": {},
   "outputs": [
    {
     "data": {
      "text/plain": [
       "0      4 GB\n",
       "1      4 GB\n",
       "2      4 GB\n",
       "3      8 GB\n",
       "4      4 GB\n",
       "       ... \n",
       "818    4 GB\n",
       "819    4 GB\n",
       "820    4 GB\n",
       "821    4 GB\n",
       "822    8 GB\n",
       "Name: ram_gb, Length: 823, dtype: object"
      ]
     },
     "execution_count": 31,
     "metadata": {},
     "output_type": "execute_result"
    }
   ],
   "source": [
    "df[\"ram_gb\"]"
   ]
  },
  {
   "cell_type": "code",
   "execution_count": 32,
   "id": "2f9cfc9f",
   "metadata": {},
   "outputs": [
    {
     "data": {
      "text/plain": [
       "{'8 GB': 418, '4 GB': 226, '16 GB': 177, '32 GB': 2}"
      ]
     },
     "execution_count": 32,
     "metadata": {},
     "output_type": "execute_result"
    }
   ],
   "source": [
    "df[\"ram_gb\"].value_counts().to_dict()"
   ]
  },
  {
   "cell_type": "code",
   "execution_count": 33,
   "id": "899ddfed",
   "metadata": {},
   "outputs": [],
   "source": [
    "df[\"ram_gb\"].replace({'8 GB': 8, '4 GB': 4, '16 GB': 16, '32 GB': 32},inplace =True)"
   ]
  },
  {
   "cell_type": "code",
   "execution_count": 34,
   "id": "a148b963",
   "metadata": {},
   "outputs": [],
   "source": [
    "ram_gb_data = {'8 GB': 8, '4 GB': 4, '16 GB': 16, '32 GB': 32}"
   ]
  },
  {
   "cell_type": "code",
   "execution_count": 35,
   "id": "c84f07aa",
   "metadata": {},
   "outputs": [
    {
     "data": {
      "text/plain": [
       "{'512 GB': 398,\n",
       " '256 GB': 184,\n",
       " '0 GB': 124,\n",
       " '1024 GB': 111,\n",
       " '128 GB': 3,\n",
       " '2048 GB': 2,\n",
       " '3072 GB': 1}"
      ]
     },
     "execution_count": 35,
     "metadata": {},
     "output_type": "execute_result"
    }
   ],
   "source": [
    "df[\"ssd\"].value_counts().to_dict()"
   ]
  },
  {
   "cell_type": "code",
   "execution_count": 36,
   "id": "887d95cc",
   "metadata": {},
   "outputs": [],
   "source": [
    "df[\"ssd\"].replace({'512 GB': 512,\n",
    " '256 GB': 256,\n",
    " '0 GB': 0,\n",
    " '1024 GB': 1024,\n",
    " '128 GB': 128,\n",
    " '2048 GB': 2048,\n",
    " '3072 GB': 3072},inplace = True)"
   ]
  },
  {
   "cell_type": "code",
   "execution_count": 37,
   "id": "5f24955e",
   "metadata": {},
   "outputs": [],
   "source": [
    "ssd_data = {'512 GB': 512,\n",
    " '256 GB': 256,\n",
    " '0 GB': 0,\n",
    " '1024 GB': 1024,\n",
    " '128 GB': 128,\n",
    " '2048 GB': 2048,\n",
    " '3072 GB': 3072}"
   ]
  },
  {
   "cell_type": "code",
   "execution_count": 38,
   "id": "a1c29068",
   "metadata": {},
   "outputs": [
    {
     "data": {
      "text/plain": [
       "{'0 GB': 621, '1024 GB': 160, '512 GB': 41, '2048 GB': 1}"
      ]
     },
     "execution_count": 38,
     "metadata": {},
     "output_type": "execute_result"
    }
   ],
   "source": [
    "df[\"hdd\"].value_counts().to_dict()"
   ]
  },
  {
   "cell_type": "code",
   "execution_count": 39,
   "id": "a10227a4",
   "metadata": {},
   "outputs": [],
   "source": [
    "df[\"hdd\"].replace({'0 GB': 0, '1024 GB': 1024, '512 GB': 512, '2048 GB': 2048},inplace =True)"
   ]
  },
  {
   "cell_type": "code",
   "execution_count": 40,
   "id": "2298f731",
   "metadata": {},
   "outputs": [],
   "source": [
    "hdd_data ={'0 GB': 0, '1024 GB': 1024, '512 GB': 512, '2048 GB': 2048}"
   ]
  },
  {
   "cell_type": "code",
   "execution_count": 41,
   "id": "04370e7d",
   "metadata": {},
   "outputs": [
    {
     "data": {
      "text/plain": [
       "{'64-bit': 714, '32-bit': 109}"
      ]
     },
     "execution_count": 41,
     "metadata": {},
     "output_type": "execute_result"
    }
   ],
   "source": [
    "df[\"os_bit\"].value_counts().to_dict()"
   ]
  },
  {
   "cell_type": "code",
   "execution_count": 42,
   "id": "042f941d",
   "metadata": {},
   "outputs": [],
   "source": [
    "df[\"os_bit\"].replace({'64-bit': 64, '32-bit': 32},inplace = True)"
   ]
  },
  {
   "cell_type": "code",
   "execution_count": 43,
   "id": "02bfb6eb",
   "metadata": {},
   "outputs": [],
   "source": [
    "os_bit_data = {'64-bit': 64, '32-bit': 32}"
   ]
  },
  {
   "cell_type": "code",
   "execution_count": 44,
   "id": "004845fc",
   "metadata": {},
   "outputs": [
    {
     "data": {
      "text/plain": [
       "{'No': 726, 'Yes': 97}"
      ]
     },
     "execution_count": 44,
     "metadata": {},
     "output_type": "execute_result"
    }
   ],
   "source": [
    "df[\"Touchscreen\"].value_counts().to_dict()"
   ]
  },
  {
   "cell_type": "code",
   "execution_count": 45,
   "id": "e5edd3b4",
   "metadata": {},
   "outputs": [],
   "source": [
    "df[\"Touchscreen\"].replace({'No': 0, 'Yes': 1},inplace = True)"
   ]
  },
  {
   "cell_type": "code",
   "execution_count": 46,
   "id": "90f4ac6b",
   "metadata": {},
   "outputs": [],
   "source": [
    "Touchscreen_data = {'No': 0, 'Yes': 1}"
   ]
  },
  {
   "cell_type": "code",
   "execution_count": 47,
   "id": "ece5a5c2",
   "metadata": {},
   "outputs": [
    {
     "name": "stdout",
     "output_type": "stream",
     "text": [
      "<class 'pandas.core.frame.DataFrame'>\n",
      "RangeIndex: 823 entries, 0 to 822\n",
      "Data columns (total 15 columns):\n",
      " #   Column           Non-Null Count  Dtype\n",
      "---  ------           --------------  -----\n",
      " 0   processor_brand  823 non-null    int64\n",
      " 1   ram_gb           823 non-null    int64\n",
      " 2   ssd              823 non-null    int64\n",
      " 3   hdd              823 non-null    int64\n",
      " 4   os_bit           823 non-null    int64\n",
      " 5   Touchscreen      823 non-null    int64\n",
      " 6   Price            823 non-null    int64\n",
      " 7   brand_APPLE      823 non-null    int32\n",
      " 8   brand_ASUS       823 non-null    int32\n",
      " 9   brand_Avita      823 non-null    int32\n",
      " 10  brand_DELL       823 non-null    int32\n",
      " 11  brand_HP         823 non-null    int32\n",
      " 12  brand_Lenovo     823 non-null    int32\n",
      " 13  brand_MSI        823 non-null    int32\n",
      " 14  brand_acer       823 non-null    int32\n",
      "dtypes: int32(8), int64(7)\n",
      "memory usage: 70.9 KB\n"
     ]
    }
   ],
   "source": [
    "df.info()"
   ]
  },
  {
   "cell_type": "code",
   "execution_count": 48,
   "id": "a934fe12",
   "metadata": {},
   "outputs": [],
   "source": [
    "x = df.drop('Price', axis = 1)\n",
    "y = df['Price']\n",
    "x_train, x_test, y_train, y_test = train_test_split(x,y,test_size=0.2, random_state=13)"
   ]
  },
  {
   "cell_type": "code",
   "execution_count": 49,
   "id": "8731e13f",
   "metadata": {},
   "outputs": [
    {
     "data": {
      "text/html": [
       "<style>#sk-container-id-1 {color: black;background-color: white;}#sk-container-id-1 pre{padding: 0;}#sk-container-id-1 div.sk-toggleable {background-color: white;}#sk-container-id-1 label.sk-toggleable__label {cursor: pointer;display: block;width: 100%;margin-bottom: 0;padding: 0.3em;box-sizing: border-box;text-align: center;}#sk-container-id-1 label.sk-toggleable__label-arrow:before {content: \"▸\";float: left;margin-right: 0.25em;color: #696969;}#sk-container-id-1 label.sk-toggleable__label-arrow:hover:before {color: black;}#sk-container-id-1 div.sk-estimator:hover label.sk-toggleable__label-arrow:before {color: black;}#sk-container-id-1 div.sk-toggleable__content {max-height: 0;max-width: 0;overflow: hidden;text-align: left;background-color: #f0f8ff;}#sk-container-id-1 div.sk-toggleable__content pre {margin: 0.2em;color: black;border-radius: 0.25em;background-color: #f0f8ff;}#sk-container-id-1 input.sk-toggleable__control:checked~div.sk-toggleable__content {max-height: 200px;max-width: 100%;overflow: auto;}#sk-container-id-1 input.sk-toggleable__control:checked~label.sk-toggleable__label-arrow:before {content: \"▾\";}#sk-container-id-1 div.sk-estimator input.sk-toggleable__control:checked~label.sk-toggleable__label {background-color: #d4ebff;}#sk-container-id-1 div.sk-label input.sk-toggleable__control:checked~label.sk-toggleable__label {background-color: #d4ebff;}#sk-container-id-1 input.sk-hidden--visually {border: 0;clip: rect(1px 1px 1px 1px);clip: rect(1px, 1px, 1px, 1px);height: 1px;margin: -1px;overflow: hidden;padding: 0;position: absolute;width: 1px;}#sk-container-id-1 div.sk-estimator {font-family: monospace;background-color: #f0f8ff;border: 1px dotted black;border-radius: 0.25em;box-sizing: border-box;margin-bottom: 0.5em;}#sk-container-id-1 div.sk-estimator:hover {background-color: #d4ebff;}#sk-container-id-1 div.sk-parallel-item::after {content: \"\";width: 100%;border-bottom: 1px solid gray;flex-grow: 1;}#sk-container-id-1 div.sk-label:hover label.sk-toggleable__label {background-color: #d4ebff;}#sk-container-id-1 div.sk-serial::before {content: \"\";position: absolute;border-left: 1px solid gray;box-sizing: border-box;top: 0;bottom: 0;left: 50%;z-index: 0;}#sk-container-id-1 div.sk-serial {display: flex;flex-direction: column;align-items: center;background-color: white;padding-right: 0.2em;padding-left: 0.2em;position: relative;}#sk-container-id-1 div.sk-item {position: relative;z-index: 1;}#sk-container-id-1 div.sk-parallel {display: flex;align-items: stretch;justify-content: center;background-color: white;position: relative;}#sk-container-id-1 div.sk-item::before, #sk-container-id-1 div.sk-parallel-item::before {content: \"\";position: absolute;border-left: 1px solid gray;box-sizing: border-box;top: 0;bottom: 0;left: 50%;z-index: -1;}#sk-container-id-1 div.sk-parallel-item {display: flex;flex-direction: column;z-index: 1;position: relative;background-color: white;}#sk-container-id-1 div.sk-parallel-item:first-child::after {align-self: flex-end;width: 50%;}#sk-container-id-1 div.sk-parallel-item:last-child::after {align-self: flex-start;width: 50%;}#sk-container-id-1 div.sk-parallel-item:only-child::after {width: 0;}#sk-container-id-1 div.sk-dashed-wrapped {border: 1px dashed gray;margin: 0 0.4em 0.5em 0.4em;box-sizing: border-box;padding-bottom: 0.4em;background-color: white;}#sk-container-id-1 div.sk-label label {font-family: monospace;font-weight: bold;display: inline-block;line-height: 1.2em;}#sk-container-id-1 div.sk-label-container {text-align: center;}#sk-container-id-1 div.sk-container {/* jupyter's `normalize.less` sets `[hidden] { display: none; }` but bootstrap.min.css set `[hidden] { display: none !important; }` so we also need the `!important` here to be able to override the default hidden behavior on the sphinx rendered scikit-learn.org. See: https://github.com/scikit-learn/scikit-learn/issues/21755 */display: inline-block !important;position: relative;}#sk-container-id-1 div.sk-text-repr-fallback {display: none;}</style><div id=\"sk-container-id-1\" class=\"sk-top-container\"><div class=\"sk-text-repr-fallback\"><pre>LinearRegression()</pre><b>In a Jupyter environment, please rerun this cell to show the HTML representation or trust the notebook. <br />On GitHub, the HTML representation is unable to render, please try loading this page with nbviewer.org.</b></div><div class=\"sk-container\" hidden><div class=\"sk-item\"><div class=\"sk-estimator sk-toggleable\"><input class=\"sk-toggleable__control sk-hidden--visually\" id=\"sk-estimator-id-1\" type=\"checkbox\" checked><label for=\"sk-estimator-id-1\" class=\"sk-toggleable__label sk-toggleable__label-arrow\">LinearRegression</label><div class=\"sk-toggleable__content\"><pre>LinearRegression()</pre></div></div></div></div></div>"
      ],
      "text/plain": [
       "LinearRegression()"
      ]
     },
     "execution_count": 49,
     "metadata": {},
     "output_type": "execute_result"
    }
   ],
   "source": [
    "linear_reg = LinearRegression()\n",
    "linear_reg.fit(x_train, y_train)"
   ]
  },
  {
   "cell_type": "markdown",
   "id": "71e25efa",
   "metadata": {},
   "source": [
    "### Evaluation"
   ]
  },
  {
   "cell_type": "code",
   "execution_count": 50,
   "id": "5e47d866",
   "metadata": {},
   "outputs": [
    {
     "name": "stdout",
     "output_type": "stream",
     "text": [
      "RMSE : 32605.538754691028\n",
      "MAE : 19783.878379082995\n",
      "R-Squared : 0.5870800842315912\n"
     ]
    }
   ],
   "source": [
    "y_pred = linear_reg.predict(x_test)\n",
    "\n",
    "mse = mean_squared_error(y_test, y_pred)\n",
    "rmse = np.sqrt(mse)\n",
    "\n",
    "print(\"RMSE :\",rmse)\n",
    "\n",
    "mae = mean_absolute_error(y_test, y_pred)\n",
    "print(\"MAE :\",mae)\n",
    "\n",
    "r2_value = r2_score(y_test, y_pred)\n",
    "print(\"R-Squared :\",r2_value)"
   ]
  },
  {
   "cell_type": "code",
   "execution_count": 51,
   "id": "feee2a87",
   "metadata": {},
   "outputs": [
    {
     "name": "stdout",
     "output_type": "stream",
     "text": [
      "RMSE : 27318.58944374252\n",
      "MAE : 18150.43271047525\n",
      "R-Squared : 0.6035869074291188\n"
     ]
    }
   ],
   "source": [
    "y_pred_train = linear_reg.predict(x_train)\n",
    "\n",
    "mse = mean_squared_error(y_train, y_pred_train)\n",
    "rmse = np.sqrt(mse)\n",
    "\n",
    "print(\"RMSE :\",rmse)\n",
    "\n",
    "mae = mean_absolute_error(y_train, y_pred_train)\n",
    "print(\"MAE :\",mae)\n",
    "\n",
    "r2_value = r2_score(y_train, y_pred_train )\n",
    "print(\"R-Squared :\",r2_value)"
   ]
  },
  {
   "cell_type": "code",
   "execution_count": 52,
   "id": "30837815",
   "metadata": {},
   "outputs": [
    {
     "data": {
      "text/html": [
       "<div>\n",
       "<style scoped>\n",
       "    .dataframe tbody tr th:only-of-type {\n",
       "        vertical-align: middle;\n",
       "    }\n",
       "\n",
       "    .dataframe tbody tr th {\n",
       "        vertical-align: top;\n",
       "    }\n",
       "\n",
       "    .dataframe thead th {\n",
       "        text-align: right;\n",
       "    }\n",
       "</style>\n",
       "<table border=\"1\" class=\"dataframe\">\n",
       "  <thead>\n",
       "    <tr style=\"text-align: right;\">\n",
       "      <th></th>\n",
       "      <th>processor_brand</th>\n",
       "      <th>ram_gb</th>\n",
       "      <th>ssd</th>\n",
       "      <th>hdd</th>\n",
       "      <th>os_bit</th>\n",
       "      <th>Touchscreen</th>\n",
       "      <th>brand_APPLE</th>\n",
       "      <th>brand_ASUS</th>\n",
       "      <th>brand_Avita</th>\n",
       "      <th>brand_DELL</th>\n",
       "      <th>brand_HP</th>\n",
       "      <th>brand_Lenovo</th>\n",
       "      <th>brand_MSI</th>\n",
       "      <th>brand_acer</th>\n",
       "    </tr>\n",
       "  </thead>\n",
       "  <tbody>\n",
       "    <tr>\n",
       "      <th>352</th>\n",
       "      <td>1</td>\n",
       "      <td>8</td>\n",
       "      <td>512</td>\n",
       "      <td>0</td>\n",
       "      <td>64</td>\n",
       "      <td>0</td>\n",
       "      <td>0</td>\n",
       "      <td>1</td>\n",
       "      <td>0</td>\n",
       "      <td>0</td>\n",
       "      <td>0</td>\n",
       "      <td>0</td>\n",
       "      <td>0</td>\n",
       "      <td>0</td>\n",
       "    </tr>\n",
       "  </tbody>\n",
       "</table>\n",
       "</div>"
      ],
      "text/plain": [
       "     processor_brand  ram_gb  ssd  hdd  os_bit  Touchscreen  brand_APPLE   \n",
       "352                1       8  512    0      64            0            0  \\\n",
       "\n",
       "     brand_ASUS  brand_Avita  brand_DELL  brand_HP  brand_Lenovo  brand_MSI   \n",
       "352           1            0           0         0             0          0  \\\n",
       "\n",
       "     brand_acer  \n",
       "352           0  "
      ]
     },
     "execution_count": 52,
     "metadata": {},
     "output_type": "execute_result"
    }
   ],
   "source": [
    "x_test[55:56]"
   ]
  },
  {
   "cell_type": "code",
   "execution_count": 53,
   "id": "59aa286a",
   "metadata": {},
   "outputs": [
    {
     "data": {
      "text/plain": [
       "66800.93635182935"
      ]
     },
     "execution_count": 53,
     "metadata": {},
     "output_type": "execute_result"
    }
   ],
   "source": [
    "linear_reg.predict(x_test[55:56])[0]"
   ]
  },
  {
   "cell_type": "code",
   "execution_count": 54,
   "id": "a58e663f",
   "metadata": {},
   "outputs": [
    {
     "data": {
      "text/plain": [
       "['processor_brand',\n",
       " 'ram_gb',\n",
       " 'ssd',\n",
       " 'hdd',\n",
       " 'os_bit',\n",
       " 'Touchscreen',\n",
       " 'brand_APPLE',\n",
       " 'brand_ASUS',\n",
       " 'brand_Avita',\n",
       " 'brand_DELL',\n",
       " 'brand_HP',\n",
       " 'brand_Lenovo',\n",
       " 'brand_MSI',\n",
       " 'brand_acer']"
      ]
     },
     "execution_count": 54,
     "metadata": {},
     "output_type": "execute_result"
    }
   ],
   "source": [
    "column_names = x.columns.tolist()\n",
    "column_names"
   ]
  },
  {
   "cell_type": "code",
   "execution_count": 55,
   "id": "45f717a2",
   "metadata": {},
   "outputs": [
    {
     "data": {
      "text/plain": [
       "71968.474"
      ]
     },
     "execution_count": 55,
     "metadata": {},
     "output_type": "execute_result"
    }
   ],
   "source": [
    "processor_brand = \"Intel\"\n",
    "ram_gb = \"4 GB\"\n",
    "ssd = \"512 GB\"\n",
    "hdd = \"0 GB\"\n",
    "os_bit = \"32-bit\"\n",
    "Touchscreen = \"No\"\n",
    "brand = \"DELL\"\n",
    "\n",
    "processor_brand = processor_brand_data[processor_brand]\n",
    "ram_gb = ram_gb_data[ram_gb]\n",
    "ssd = ssd_data[ssd]\n",
    "hdd = hdd_data[hdd]\n",
    "os_bit = os_bit_data[os_bit]\n",
    "Touchscreen = Touchscreen_data[Touchscreen]\n",
    "brand = 'brand_'+brand\n",
    "\n",
    "brand_index = column_names.index(brand)\n",
    "brand_index\n",
    "\n",
    "test_array = np.zeros([1,linear_reg.n_features_in_])\n",
    "test_array[0,0] = processor_brand\n",
    "test_array[0,1] = ram_gb\n",
    "test_array[0,2] = ssd\n",
    "test_array[0,3] = hdd\n",
    "test_array[0,4] = os_bit\n",
    "test_array[0,5] = Touchscreen\n",
    "test_array[0,brand_index] = 1\n",
    "\n",
    "predicted_price = np.around(linear_reg.predict(test_array)[0],3)\n",
    "predicted_price"
   ]
  },
  {
   "cell_type": "code",
   "execution_count": 56,
   "id": "4a590840",
   "metadata": {},
   "outputs": [],
   "source": [
    "with open('linear_regression.pkl','wb') as f:\n",
    "    pickle.dump(linear_reg, f)"
   ]
  },
  {
   "cell_type": "code",
   "execution_count": 57,
   "id": "ecbc9438",
   "metadata": {},
   "outputs": [],
   "source": [
    "project_data = {\n",
    "               \"Processor_brand\": processor_brand_data,\n",
    "               \"Ram_gb\": ram_gb_data,\n",
    "                \"Ssd\": ssd_data,\n",
    "                \"Hdd\": hdd_data,\n",
    "                \"Os_bit\": os_bit_data,\n",
    "                \"TOUCHSCREEN\": Touchscreen_data,\n",
    "                \"Column Names\" : column_names}\n",
    "\n",
    "with open('proj_data.json','w') as f:\n",
    "    json.dump(project_data, f)"
   ]
  }
 ],
 "metadata": {
  "kernelspec": {
   "display_name": "Python 3 (ipykernel)",
   "language": "python",
   "name": "python3"
  },
  "language_info": {
   "codemirror_mode": {
    "name": "ipython",
    "version": 3
   },
   "file_extension": ".py",
   "mimetype": "text/x-python",
   "name": "python",
   "nbconvert_exporter": "python",
   "pygments_lexer": "ipython3",
   "version": "3.10.10"
  }
 },
 "nbformat": 4,
 "nbformat_minor": 5
}
